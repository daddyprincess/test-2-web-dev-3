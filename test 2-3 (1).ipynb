{
 "cells": [
  {
   "cell_type": "markdown",
   "id": "e8cd4810-488b-4159-8d62-52c92a46d335",
   "metadata": {},
   "source": [
    "## 3.exception contexts"
   ]
  },
  {
   "cell_type": "code",
   "execution_count": null,
   "id": "986e8417-2c09-4811-9362-b8488acf9693",
   "metadata": {},
   "outputs": [],
   "source": [
    "-Global Execution Context: The global execution context represents the overall environment of the web page. It includes\n",
    " the global scope, which consists of variables and functions accessible throughout the entire web page. The global \n",
    "execution context is created when the web page is loaded, and it persists until the page is closed or refreshed.\n",
    "\n",
    "-Function Execution Context: When a JavaScript function is called or invoked, a new function execution context is created\n",
    " It represents the scope and environment specific to that function. Each function invocation has its own function \n",
    "execution context, which is pushed onto the call stack. The function execution context includes local variables,\n",
    "parameters, and references to the parent scope.\n",
    "\n",
    "-Eval Execution Context: The eval function, when used, creates an eval execution context. It is used to evaluate\n",
    " JavaScript code dynamically at runtime. The eval execution context is similar to a function execution context but is \n",
    "specifically for evaluating code within the eval function."
   ]
  },
  {
   "cell_type": "code",
   "execution_count": null,
   "id": "dfd5b634-8722-4639-932e-e6c561bea0f9",
   "metadata": {},
   "outputs": [],
   "source": [
    "      +-------------------------------------------+\n",
    "      |                                           |\n",
    "      |               Global Context               |\n",
    "      |   (window object, global scope variables)  |\n",
    "      |                                           |\n",
    "      +-------------------------------------------+\n",
    "                     |    |\n",
    "                     |    |\n",
    "           +-----------------------+\n",
    "           |                       |\n",
    "           |    Function Context    |\n",
    "           |  (local variables,    |\n",
    "           |   function parameters) |\n",
    "           +-----------------------+\n",
    "                     |    |\n",
    "                     |    |\n",
    "           +-----------------------+\n",
    "           |                       |\n",
    "           |     Eval Context      |\n",
    "           |  (evaluated variables) |\n",
    "           +-----------------------+\n"
   ]
  }
 ],
 "metadata": {
  "kernelspec": {
   "display_name": "Python 3 (ipykernel)",
   "language": "python",
   "name": "python3"
  },
  "language_info": {
   "codemirror_mode": {
    "name": "ipython",
    "version": 3
   },
   "file_extension": ".py",
   "mimetype": "text/x-python",
   "name": "python",
   "nbconvert_exporter": "python",
   "pygments_lexer": "ipython3",
   "version": "3.10.8"
  }
 },
 "nbformat": 4,
 "nbformat_minor": 5
}
